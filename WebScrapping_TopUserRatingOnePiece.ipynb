{
 "cells": [
  {
   "cell_type": "code",
   "execution_count": 1,
   "metadata": {},
   "outputs": [],
   "source": [
    "import pandas as pd\n",
    "import requests\n",
    "from bs4 import BeautifulSoup\n",
    "import numpy as np"
   ]
  },
  {
   "cell_type": "code",
   "execution_count": 2,
   "metadata": {},
   "outputs": [],
   "source": [
    "url = 'https://www.imdb.com/search/title/?series=tt0388629&sort=user_rating,desc&count=250&view=advanced'\n",
    "response = requests.get(url)\n",
    "soup = BeautifulSoup(response.content,'html.parser')"
   ]
  },
  {
   "cell_type": "code",
   "execution_count": 3,
   "metadata": {},
   "outputs": [],
   "source": [
    "episode_name = []\n",
    "year = []\n",
    "time = []\n",
    "rating = []\n",
    "votes = []\n",
    "summary = []"
   ]
  },
  {
   "cell_type": "code",
   "execution_count": 4,
   "metadata": {},
   "outputs": [],
   "source": [
    "movie_data = soup.findAll('div', attrs= {'class': 'lister-item mode-advanced'})"
   ]
  },
  {
   "cell_type": "code",
   "execution_count": 5,
   "metadata": {},
   "outputs": [],
   "source": [
    "for store in movie_data:\n",
    "    name = store.h3.find_all('a')[1].text\n",
    "    episode_name.append(name)\n",
    "\n",
    "    year_of_release = store.h3.find_all('span')[2].text.replace('(','').replace(')','')\n",
    "    year.append(year_of_release)\n",
    "\n",
    "    runtime_span = store.p.find('span', class_='runtime')\n",
    "    if runtime_span:\n",
    "        time_text = runtime_span.get_text(strip=True).replace(' min', '')\n",
    "    else:\n",
    "        time_text = \"-\"\n",
    "    time.append(time_text)\n",
    "\n",
    "    rate = store.find('div', class_='inline-block ratings-imdb-rating').text.strip()\n",
    "    rating.append(rate)\n",
    "\n",
    "    vote = store.find_all('span', attrs = {'name': 'nv'})[0].text\n",
    "    votes.append(vote)\n",
    "\n",
    "    summarytext = store.find_all('p')[1].text.strip()\n",
    "    summary.append(summarytext)\n",
    "\n"
   ]
  },
  {
   "cell_type": "code",
   "execution_count": 6,
   "metadata": {},
   "outputs": [],
   "source": [
    "movie_DF = pd.DataFrame({'Name of episode': episode_name, 'Year of release': year, 'Watchtime': time, 'Episode ratings': rating, 'Votes': votes, 'Episode summary': summary})\n",
    "top15 = movie_DF.head(15)"
   ]
  },
  {
   "cell_type": "code",
   "execution_count": 8,
   "metadata": {},
   "outputs": [],
   "source": [
    "top15.to_csv('Top 15 User Rating One Piece.csv', index = False)"
   ]
  }
 ],
 "metadata": {
  "kernelspec": {
   "display_name": "Python 3",
   "language": "python",
   "name": "python3"
  },
  "language_info": {
   "codemirror_mode": {
    "name": "ipython",
    "version": 3
   },
   "file_extension": ".py",
   "mimetype": "text/x-python",
   "name": "python",
   "nbconvert_exporter": "python",
   "pygments_lexer": "ipython3",
   "version": "3.11.3"
  },
  "orig_nbformat": 4
 },
 "nbformat": 4,
 "nbformat_minor": 2
}
